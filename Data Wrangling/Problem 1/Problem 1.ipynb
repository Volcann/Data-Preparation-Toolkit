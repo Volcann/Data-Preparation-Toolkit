{
 "cells": [
  {
   "cell_type": "markdown",
   "id": "32638924-da14-4662-87a7-5e76f210f899",
   "metadata": {},
   "source": [
    "<h1><span style=\"color: lightblue;\">Performing Data Wrangling ⚡️</span></h1>"
   ]
  },
  {
   "cell_type": "markdown",
   "id": "427e9ffc-51c0-4683-8782-826391f52cd6",
   "metadata": {},
   "source": [
    "## 🌟 Step 1\n",
    "<h2><span style=\"color: yellow;\">Data Gathering 🌎 </span></h2> "
   ]
  },
  {
   "cell_type": "code",
   "execution_count": 57,
   "id": "411e1132-8e8c-479e-9537-08a3297c1532",
   "metadata": {},
   "outputs": [],
   "source": [
    "# Importing required modules\n",
    "import re\n",
    "import pandas as pd\n",
    "import numpy as np"
   ]
  },
  {
   "cell_type": "code",
   "execution_count": 17,
   "id": "fd83efd1-8954-426b-a6e8-4c21d92b939f",
   "metadata": {},
   "outputs": [],
   "source": [
    "# Import from CSV\n",
    "patients = pd.read_csv('patients.csv')\n",
    "treatments = pd.read_csv('treatments.csv')\n",
    "adverse_reactions = pd.read_csv('adverse_reactions.csv')\n",
    "treatments_cut = pd.read_csv('treatments_cut.csv')"
   ]
  },
  {
   "cell_type": "markdown",
   "id": "19a3323c-9c44-4fd6-9dbe-376dd425ebb9",
   "metadata": {},
   "source": [
    "- Gather data from CSV file.\n",
    "- Got this dataset to practice from CampusX { https://github.com/campusx-official/data-wrangling/blob/master/Data%20Wrangling.ipynb }."
   ]
  },
  {
   "cell_type": "markdown",
   "id": "9b19b1f9-6107-4d6d-a703-3a4ab75c324e",
   "metadata": {},
   "source": [
    "## 🌟 Step 2\n",
    "<h2><span style=\"color: yellow;\">Data  Assessments 🌎 </span></h2>  \n",
    "- In this step, the data is to be understood more deeply. Before implementing methods to clean it, you will definitely need to have a better idea about what the data is about.<br>\n",
    "- Basically a whole summary of data.<br>\n",
    "- Data assessment is often an iterative process.<br>\n",
    "    \n",
    "<h2><span style=\"color: red;\"> 🛑 Step 1 Discover </span></h2>  \n",
    "- View datasets.<br>\n",
    "- Check shape of the data.<br>\n",
    "    \n",
    "### 🔥 Automatic Assessments \n",
    "- Programmatic.<br>\n",
    "- Using Pandas.<br>\n",
    "  - `head and tail`\n",
    "  - `describe`\n",
    "  - `sample`\n",
    "  - `info`\n",
    "  - `isnull`\n",
    "  - `duplicated`"
   ]
  },
  {
   "cell_type": "code",
   "execution_count": 7,
   "id": "5710d2ea-4d59-4d22-b5e7-00d9755dfa32",
   "metadata": {},
   "outputs": [
    {
     "data": {
      "text/html": [
       "<div>\n",
       "<style scoped>\n",
       "    .dataframe tbody tr th:only-of-type {\n",
       "        vertical-align: middle;\n",
       "    }\n",
       "\n",
       "    .dataframe tbody tr th {\n",
       "        vertical-align: top;\n",
       "    }\n",
       "\n",
       "    .dataframe thead th {\n",
       "        text-align: right;\n",
       "    }\n",
       "</style>\n",
       "<table border=\"1\" class=\"dataframe\">\n",
       "  <thead>\n",
       "    <tr style=\"text-align: right;\">\n",
       "      <th></th>\n",
       "      <th>given_name</th>\n",
       "      <th>surname</th>\n",
       "      <th>auralin</th>\n",
       "      <th>novodra</th>\n",
       "      <th>hba1c_start</th>\n",
       "      <th>hba1c_end</th>\n",
       "      <th>hba1c_change</th>\n",
       "    </tr>\n",
       "  </thead>\n",
       "  <tbody>\n",
       "    <tr>\n",
       "      <th>0</th>\n",
       "      <td>veronika</td>\n",
       "      <td>jindrová</td>\n",
       "      <td>41u - 48u</td>\n",
       "      <td>-</td>\n",
       "      <td>7.63</td>\n",
       "      <td>7.20</td>\n",
       "      <td>NaN</td>\n",
       "    </tr>\n",
       "    <tr>\n",
       "      <th>1</th>\n",
       "      <td>elliot</td>\n",
       "      <td>richardson</td>\n",
       "      <td>-</td>\n",
       "      <td>40u - 45u</td>\n",
       "      <td>7.56</td>\n",
       "      <td>7.09</td>\n",
       "      <td>0.97</td>\n",
       "    </tr>\n",
       "    <tr>\n",
       "      <th>2</th>\n",
       "      <td>yukitaka</td>\n",
       "      <td>takenaka</td>\n",
       "      <td>-</td>\n",
       "      <td>39u - 36u</td>\n",
       "      <td>7.68</td>\n",
       "      <td>7.25</td>\n",
       "      <td>NaN</td>\n",
       "    </tr>\n",
       "    <tr>\n",
       "      <th>3</th>\n",
       "      <td>skye</td>\n",
       "      <td>gormanston</td>\n",
       "      <td>33u - 36u</td>\n",
       "      <td>-</td>\n",
       "      <td>7.97</td>\n",
       "      <td>7.62</td>\n",
       "      <td>0.35</td>\n",
       "    </tr>\n",
       "    <tr>\n",
       "      <th>4</th>\n",
       "      <td>alissa</td>\n",
       "      <td>montez</td>\n",
       "      <td>-</td>\n",
       "      <td>33u - 29u</td>\n",
       "      <td>7.78</td>\n",
       "      <td>7.46</td>\n",
       "      <td>0.32</td>\n",
       "    </tr>\n",
       "  </tbody>\n",
       "</table>\n",
       "</div>"
      ],
      "text/plain": [
       "  given_name     surname    auralin    novodra  hba1c_start  hba1c_end  \\\n",
       "0   veronika    jindrová  41u - 48u          -         7.63       7.20   \n",
       "1     elliot  richardson          -  40u - 45u         7.56       7.09   \n",
       "2   yukitaka    takenaka          -  39u - 36u         7.68       7.25   \n",
       "3       skye  gormanston  33u - 36u          -         7.97       7.62   \n",
       "4     alissa      montez          -  33u - 29u         7.78       7.46   \n",
       "\n",
       "   hba1c_change  \n",
       "0           NaN  \n",
       "1          0.97  \n",
       "2           NaN  \n",
       "3          0.35  \n",
       "4          0.32  "
      ]
     },
     "execution_count": 7,
     "metadata": {},
     "output_type": "execute_result"
    }
   ],
   "source": [
    "# Head view\n",
    "treatments.head()"
   ]
  },
  {
   "cell_type": "code",
   "execution_count": 8,
   "id": "3451b419-6089-4f65-be60-733ecb000aef",
   "metadata": {},
   "outputs": [
    {
     "data": {
      "text/html": [
       "<div>\n",
       "<style scoped>\n",
       "    .dataframe tbody tr th:only-of-type {\n",
       "        vertical-align: middle;\n",
       "    }\n",
       "\n",
       "    .dataframe tbody tr th {\n",
       "        vertical-align: top;\n",
       "    }\n",
       "\n",
       "    .dataframe thead th {\n",
       "        text-align: right;\n",
       "    }\n",
       "</style>\n",
       "<table border=\"1\" class=\"dataframe\">\n",
       "  <thead>\n",
       "    <tr style=\"text-align: right;\">\n",
       "      <th></th>\n",
       "      <th>given_name</th>\n",
       "      <th>surname</th>\n",
       "      <th>auralin</th>\n",
       "      <th>novodra</th>\n",
       "      <th>hba1c_start</th>\n",
       "      <th>hba1c_end</th>\n",
       "      <th>hba1c_change</th>\n",
       "    </tr>\n",
       "  </thead>\n",
       "  <tbody>\n",
       "    <tr>\n",
       "      <th>65</th>\n",
       "      <td>rovzan</td>\n",
       "      <td>kishiev</td>\n",
       "      <td>32u - 37u</td>\n",
       "      <td>-</td>\n",
       "      <td>7.75</td>\n",
       "      <td>7.41</td>\n",
       "      <td>0.34</td>\n",
       "    </tr>\n",
       "    <tr>\n",
       "      <th>66</th>\n",
       "      <td>jakob</td>\n",
       "      <td>jakobsen</td>\n",
       "      <td>-</td>\n",
       "      <td>28u - 26u</td>\n",
       "      <td>7.96</td>\n",
       "      <td>7.51</td>\n",
       "      <td>0.95</td>\n",
       "    </tr>\n",
       "    <tr>\n",
       "      <th>67</th>\n",
       "      <td>bernd</td>\n",
       "      <td>schneider</td>\n",
       "      <td>48u - 56u</td>\n",
       "      <td>-</td>\n",
       "      <td>7.74</td>\n",
       "      <td>7.44</td>\n",
       "      <td>0.30</td>\n",
       "    </tr>\n",
       "    <tr>\n",
       "      <th>68</th>\n",
       "      <td>berta</td>\n",
       "      <td>napolitani</td>\n",
       "      <td>-</td>\n",
       "      <td>42u - 44u</td>\n",
       "      <td>7.68</td>\n",
       "      <td>7.21</td>\n",
       "      <td>NaN</td>\n",
       "    </tr>\n",
       "    <tr>\n",
       "      <th>69</th>\n",
       "      <td>armina</td>\n",
       "      <td>sauvé</td>\n",
       "      <td>36u - 46u</td>\n",
       "      <td>-</td>\n",
       "      <td>7.86</td>\n",
       "      <td>7.40</td>\n",
       "      <td>NaN</td>\n",
       "    </tr>\n",
       "  </tbody>\n",
       "</table>\n",
       "</div>"
      ],
      "text/plain": [
       "   given_name     surname    auralin    novodra  hba1c_start  hba1c_end  \\\n",
       "65     rovzan     kishiev  32u - 37u          -         7.75       7.41   \n",
       "66      jakob    jakobsen          -  28u - 26u         7.96       7.51   \n",
       "67      bernd   schneider  48u - 56u          -         7.74       7.44   \n",
       "68      berta  napolitani          -  42u - 44u         7.68       7.21   \n",
       "69     armina       sauvé  36u - 46u          -         7.86       7.40   \n",
       "\n",
       "    hba1c_change  \n",
       "65          0.34  \n",
       "66          0.95  \n",
       "67          0.30  \n",
       "68           NaN  \n",
       "69           NaN  "
      ]
     },
     "execution_count": 8,
     "metadata": {},
     "output_type": "execute_result"
    }
   ],
   "source": [
    "# Tail view\n",
    "treatments_cut.tail()"
   ]
  },
  {
   "cell_type": "code",
   "execution_count": 9,
   "id": "eb1d25bb-47a9-4fff-b8cd-5bcc95960cc6",
   "metadata": {},
   "outputs": [
    {
     "data": {
      "text/plain": [
       "(70, 7)"
      ]
     },
     "execution_count": 9,
     "metadata": {},
     "output_type": "execute_result"
    }
   ],
   "source": [
    "# Dimension of data\n",
    "treatments_cut.shape"
   ]
  },
  {
   "cell_type": "code",
   "execution_count": 10,
   "id": "162ed0be-89f3-4a9e-8c2c-d56b9d7b38d3",
   "metadata": {},
   "outputs": [
    {
     "name": "stdout",
     "output_type": "stream",
     "text": [
      "<class 'pandas.core.frame.DataFrame'>\n",
      "RangeIndex: 34 entries, 0 to 33\n",
      "Data columns (total 3 columns):\n",
      " #   Column            Non-Null Count  Dtype \n",
      "---  ------            --------------  ----- \n",
      " 0   given_name        34 non-null     object\n",
      " 1   surname           34 non-null     object\n",
      " 2   adverse_reaction  34 non-null     object\n",
      "dtypes: object(3)\n",
      "memory usage: 948.0+ bytes\n"
     ]
    }
   ],
   "source": [
    "# Checking non null values in colomns\n",
    "adverse_reactions.info()"
   ]
  },
  {
   "cell_type": "code",
   "execution_count": 11,
   "id": "c2cfb03a-b83d-48f3-bba2-c44d5b4d00f4",
   "metadata": {},
   "outputs": [
    {
     "data": {
      "text/html": [
       "<div>\n",
       "<style scoped>\n",
       "    .dataframe tbody tr th:only-of-type {\n",
       "        vertical-align: middle;\n",
       "    }\n",
       "\n",
       "    .dataframe tbody tr th {\n",
       "        vertical-align: top;\n",
       "    }\n",
       "\n",
       "    .dataframe thead th {\n",
       "        text-align: right;\n",
       "    }\n",
       "</style>\n",
       "<table border=\"1\" class=\"dataframe\">\n",
       "  <thead>\n",
       "    <tr style=\"text-align: right;\">\n",
       "      <th></th>\n",
       "      <th>hba1c_start</th>\n",
       "      <th>hba1c_end</th>\n",
       "      <th>hba1c_change</th>\n",
       "    </tr>\n",
       "  </thead>\n",
       "  <tbody>\n",
       "    <tr>\n",
       "      <th>count</th>\n",
       "      <td>280.000000</td>\n",
       "      <td>280.000000</td>\n",
       "      <td>171.000000</td>\n",
       "    </tr>\n",
       "    <tr>\n",
       "      <th>mean</th>\n",
       "      <td>7.985929</td>\n",
       "      <td>7.589286</td>\n",
       "      <td>0.546023</td>\n",
       "    </tr>\n",
       "    <tr>\n",
       "      <th>std</th>\n",
       "      <td>0.568638</td>\n",
       "      <td>0.569672</td>\n",
       "      <td>0.279555</td>\n",
       "    </tr>\n",
       "    <tr>\n",
       "      <th>min</th>\n",
       "      <td>7.500000</td>\n",
       "      <td>7.010000</td>\n",
       "      <td>0.200000</td>\n",
       "    </tr>\n",
       "    <tr>\n",
       "      <th>25%</th>\n",
       "      <td>7.660000</td>\n",
       "      <td>7.270000</td>\n",
       "      <td>0.340000</td>\n",
       "    </tr>\n",
       "    <tr>\n",
       "      <th>50%</th>\n",
       "      <td>7.800000</td>\n",
       "      <td>7.420000</td>\n",
       "      <td>0.380000</td>\n",
       "    </tr>\n",
       "    <tr>\n",
       "      <th>75%</th>\n",
       "      <td>7.970000</td>\n",
       "      <td>7.570000</td>\n",
       "      <td>0.920000</td>\n",
       "    </tr>\n",
       "    <tr>\n",
       "      <th>max</th>\n",
       "      <td>9.950000</td>\n",
       "      <td>9.580000</td>\n",
       "      <td>0.990000</td>\n",
       "    </tr>\n",
       "  </tbody>\n",
       "</table>\n",
       "</div>"
      ],
      "text/plain": [
       "       hba1c_start   hba1c_end  hba1c_change\n",
       "count   280.000000  280.000000    171.000000\n",
       "mean      7.985929    7.589286      0.546023\n",
       "std       0.568638    0.569672      0.279555\n",
       "min       7.500000    7.010000      0.200000\n",
       "25%       7.660000    7.270000      0.340000\n",
       "50%       7.800000    7.420000      0.380000\n",
       "75%       7.970000    7.570000      0.920000\n",
       "max       9.950000    9.580000      0.990000"
      ]
     },
     "execution_count": 11,
     "metadata": {},
     "output_type": "execute_result"
    }
   ],
   "source": [
    "# Describe statistcal view of data\n",
    "treatments.describe()"
   ]
  },
  {
   "cell_type": "code",
   "execution_count": 12,
   "id": "2737bef4-fe59-41a0-a9ac-87feb0cf657b",
   "metadata": {},
   "outputs": [
    {
     "data": {
      "text/plain": [
       "given_name          0\n",
       "surname             0\n",
       "adverse_reaction    0\n",
       "dtype: int64"
      ]
     },
     "execution_count": 12,
     "metadata": {},
     "output_type": "execute_result"
    }
   ],
   "source": [
    "# Counting Duplicates\n",
    "adverse_reactions[adverse_reactions.duplicated()].count()"
   ]
  },
  {
   "cell_type": "code",
   "execution_count": 23,
   "id": "abbb9881-b326-45a6-95a3-a927200ec051",
   "metadata": {},
   "outputs": [
    {
     "data": {
      "text/plain": [
       "patient_id       0\n",
       "assigned_sex     0\n",
       "given_name       0\n",
       "surname          0\n",
       "address         12\n",
       "city            12\n",
       "state           12\n",
       "zip_code        12\n",
       "country         12\n",
       "contact         12\n",
       "birthdate        0\n",
       "weight           0\n",
       "height           0\n",
       "bmi              0\n",
       "dtype: int64"
      ]
     },
     "execution_count": 23,
     "metadata": {},
     "output_type": "execute_result"
    }
   ],
   "source": [
    "# Checking null values \n",
    "patients.isnull().sum()"
   ]
  },
  {
   "cell_type": "code",
   "execution_count": 24,
   "id": "9fcc5aff-dac2-441a-9eb0-4293244a531d",
   "metadata": {},
   "outputs": [
    {
     "name": "stdout",
     "output_type": "stream",
     "text": [
      "<class 'pandas.core.frame.DataFrame'>\n",
      "RangeIndex: 503 entries, 0 to 502\n",
      "Data columns (total 14 columns):\n",
      " #   Column        Non-Null Count  Dtype  \n",
      "---  ------        --------------  -----  \n",
      " 0   patient_id    503 non-null    int64  \n",
      " 1   assigned_sex  503 non-null    object \n",
      " 2   given_name    503 non-null    object \n",
      " 3   surname       503 non-null    object \n",
      " 4   address       491 non-null    object \n",
      " 5   city          491 non-null    object \n",
      " 6   state         491 non-null    object \n",
      " 7   zip_code      491 non-null    float64\n",
      " 8   country       491 non-null    object \n",
      " 9   contact       491 non-null    object \n",
      " 10  birthdate     503 non-null    object \n",
      " 11  weight        503 non-null    float64\n",
      " 12  height        503 non-null    int64  \n",
      " 13  bmi           503 non-null    float64\n",
      "dtypes: float64(3), int64(2), object(9)\n",
      "memory usage: 55.1+ KB\n"
     ]
    }
   ],
   "source": [
    "patients.info()"
   ]
  },
  {
   "cell_type": "markdown",
   "id": "8eb4df26-7650-4706-8e54-67bf29af55a2",
   "metadata": {},
   "source": [
    "### 🔥 Manual Assessments \n",
    "- Export data into excel sit and watch for hours to the data or ooking through the data manually in google sheets."
   ]
  },
  {
   "cell_type": "code",
   "execution_count": null,
   "id": "0bed848c-63c7-4cb7-8382-6d88fa1b546f",
   "metadata": {},
   "outputs": [],
   "source": [
    "# Exporting to excel sheet\n",
    "with pd.ExcelWriter('clinical_trials.xlsx') as writer:\n",
    "  patients.to_excel(writer,sheet_name='patients')\n",
    "  treatments.to_excel(writer,sheet_name='treatments')\n",
    "  treatments_cut.to_excel(writer,sheet_name='treatment_cut')\n",
    "  adverse_reactions.to_excel(writer,sheet_name='adverse_reactions')"
   ]
  },
  {
   "cell_type": "markdown",
   "id": "74849e49-d0c4-4c97-aecb-f607d72ad51a",
   "metadata": {},
   "source": [
    "<h2><span style=\"color: red;\"> 🛑 Step 2 Document </span></h2> \n",
    "- Summary (Refer to readme.md file in the repo)<br>\n",
    "- Address issues within the dataset combine and make documents<br>"
   ]
  },
  {
   "cell_type": "markdown",
   "id": "18bf09f4-4dc3-427c-90b2-b6fa516c2b22",
   "metadata": {},
   "source": [
    "## 🌟 Step 3\n",
    "<h2><span style=\"color: yellow;\">Data Cleaning or Data Quality Dimensions✨</span></h2> "
   ]
  },
  {
   "cell_type": "code",
   "execution_count": 27,
   "id": "a57a0791-9231-475f-a2d3-0b84ebb9af19",
   "metadata": {},
   "outputs": [],
   "source": [
    "# Making a copy of all dataset\n",
    "patients_df = patients.copy()\n",
    "treatments_df = treatments.copy()\n",
    "treatments_cut_df = treatments_cut.copy()\n",
    "adverse_reactions_df = adverse_reactions.copy()"
   ]
  },
  {
   "cell_type": "markdown",
   "id": "d7593497-728c-416f-8be1-16304ec377d1",
   "metadata": {},
   "source": [
    "`Always make sure to create a copy of your pandas dataframe before you start the cleaning process`"
   ]
  },
  {
   "cell_type": "code",
   "execution_count": 28,
   "id": "6b89ec10-d27e-408a-8f1d-3a6270fec09d",
   "metadata": {},
   "outputs": [],
   "source": [
    "# Changing datatype zip_code\n",
    "patients_df['zip_code'] = patients_df['zip_code'].astype('object')\n",
    "# Filing null values with No data\n",
    "patients_df.fillna('No data', inplace=True)"
   ]
  },
  {
   "cell_type": "markdown",
   "id": "ddbc5794-ada1-4906-9983-4807218a6903",
   "metadata": {},
   "source": [
    "## 🌟 Step 4\n",
    "<h2><span style=\"color: yellow;\">Feature Engineering✨</span></h2> "
   ]
  },
  {
   "cell_type": "code",
   "execution_count": 30,
   "id": "b33e31ee-2095-4c9c-9411-e7cd416639f1",
   "metadata": {},
   "outputs": [],
   "source": [
    "# Updating current feature hba1c_change because of corrupted values\n",
    "treatments_df['hba1c_change'] = treatments_df['hba1c_start'] - treatments_df['hba1c_end'] \n",
    "# In both table\n",
    "treatments_cut_df['hba1c_change'] = treatments_cut_df['hba1c_start'] - treatments_cut_df['hba1c_end'] "
   ]
  },
  {
   "cell_type": "code",
   "execution_count": 31,
   "id": "ad801ce4-c4d5-4472-94e7-7af7c2994bf5",
   "metadata": {},
   "outputs": [],
   "source": [
    "def find_contact_details(text: str) -> tuple:\n",
    "    # it the value is NaN, then return it\n",
    "    if pd.isna(text):\n",
    "        return np.nan\n",
    "    \n",
    "    # create the phone number pattern\n",
    "    phone_number_pattern = re.compile(r\"(\\+[\\d]{1,3}\\s)?(\\(?[\\d]{3}\\)?\\s?-?[\\d]{3}\\s?-?[\\d]{4})\")\n",
    "    # find the phone number from the value/text, as a result we will get a list\n",
    "    phone_number  = re.findall(phone_number_pattern, text)\n",
    "\n",
    "    # if length is 0, then the regex can't find any ph number, then define with NaN\n",
    "    if len(phone_number) <= 0:\n",
    "        phone_number = np.nan\n",
    "    # if the country code is attached with the ph number, for that case, the first\n",
    "    # element will be the country code and the 2nd element will be the actual ph\n",
    "    # number. So, get that ph number\n",
    "    elif len(phone_number) >= 2:\n",
    "        phone_number = phone_number[1]\n",
    "    # else, we will get the ph number. Grab it.\n",
    "    else:\n",
    "        phone_number = phone_number[0]\n",
    "\n",
    "    # if we found the ph number (with/without country code), then remove that part from the actual value.\n",
    "    # after removing the ph number, the remaining string might be the email address.\n",
    "    possible_email_add = re.sub(phone_number_pattern, \"\", text).strip()\n",
    "\n",
    "    # then return the ph number and the email address\n",
    "    return phone_number, possible_email_add"
   ]
  },
  {
   "cell_type": "code",
   "execution_count": 32,
   "id": "191354f5-7285-4fdd-a262-e4e5c1bd94d6",
   "metadata": {},
   "outputs": [],
   "source": [
    "# Creating two new feature phone and email\n",
    "patients_df['phone'] = patients_df[\"contact\"].apply(lambda x: find_contact_details(x)).apply(lambda x:x[0])\n",
    "patients_df['email'] = patients_df[\"contact\"].apply(lambda x: find_contact_details(x)).apply(lambda x:x[1])"
   ]
  },
  {
   "cell_type": "code",
   "execution_count": 43,
   "id": "2659d286-7e5a-4541-99c2-86d78ad4bd14",
   "metadata": {},
   "outputs": [],
   "source": [
    "# Drop patients\n",
    "patients_df.drop(columns='contact',inplace=True)"
   ]
  },
  {
   "cell_type": "code",
   "execution_count": 46,
   "id": "4981813e-d575-4cc6-9194-ce492e4c8fdd",
   "metadata": {},
   "outputs": [],
   "source": [
    "# Joining treatments and treatments cuts \n",
    "treatments_df = pd.concat([treatments_df,treatments_cut_df])"
   ]
  },
  {
   "cell_type": "code",
   "execution_count": 47,
   "id": "af2d16ed-b239-49e1-bd7a-db5ffafd89f3",
   "metadata": {},
   "outputs": [
    {
     "name": "stdout",
     "output_type": "stream",
     "text": [
      "<class 'pandas.core.frame.DataFrame'>\n",
      "Index: 420 entries, 0 to 69\n",
      "Data columns (total 7 columns):\n",
      " #   Column        Non-Null Count  Dtype  \n",
      "---  ------        --------------  -----  \n",
      " 0   given_name    420 non-null    object \n",
      " 1   surname       420 non-null    object \n",
      " 2   auralin       420 non-null    object \n",
      " 3   novodra       420 non-null    object \n",
      " 4   hba1c_start   420 non-null    float64\n",
      " 5   hba1c_end     420 non-null    float64\n",
      " 6   hba1c_change  420 non-null    float64\n",
      "dtypes: float64(3), object(4)\n",
      "memory usage: 26.2+ KB\n"
     ]
    }
   ],
   "source": [
    "treatments_df.info()"
   ]
  },
  {
   "cell_type": "code",
   "execution_count": 48,
   "id": "a8fbfcbe-3ec6-42b2-bf52-6d4cd413e09b",
   "metadata": {},
   "outputs": [],
   "source": [
    "def lb_to_kg(pounds):\n",
    "    return pounds * 0.453592"
   ]
  },
  {
   "cell_type": "code",
   "execution_count": 49,
   "id": "38e33cbf-98e2-419a-89b2-ef8a27fca967",
   "metadata": {},
   "outputs": [],
   "source": [
    "# Updating feature\n",
    "patients_df['weight'] = patients_df[\"weight\"].apply(lambda x: lb_to_kg(x))"
   ]
  },
  {
   "cell_type": "code",
   "execution_count": 62,
   "id": "717d0c23-43ca-4a69-8e4d-f30d42b30b9a",
   "metadata": {},
   "outputs": [],
   "source": [
    "# Creating new feature insulin from present columns\n",
    "treatments_df['insulin'] = treatments_df['auralin'].apply(lambda x: 'novodra' if x == '-' else 'auralin')"
   ]
  },
  {
   "cell_type": "code",
   "execution_count": 168,
   "id": "ca4cfbdf-8083-4bd9-9132-009191bc14be",
   "metadata": {},
   "outputs": [],
   "source": [
    "treatments_df['dose'] = treatments_df['auralin'].apply(lambda x: x if x != '-' else '-')"
   ]
  },
  {
   "cell_type": "code",
   "execution_count": 196,
   "id": "08d9f638-e325-493d-b6a2-df6c3c9ff3c7",
   "metadata": {},
   "outputs": [
    {
     "data": {
      "text/html": [
       "<div>\n",
       "<style scoped>\n",
       "    .dataframe tbody tr th:only-of-type {\n",
       "        vertical-align: middle;\n",
       "    }\n",
       "\n",
       "    .dataframe tbody tr th {\n",
       "        vertical-align: top;\n",
       "    }\n",
       "\n",
       "    .dataframe thead th {\n",
       "        text-align: right;\n",
       "    }\n",
       "</style>\n",
       "<table border=\"1\" class=\"dataframe\">\n",
       "  <thead>\n",
       "    <tr style=\"text-align: right;\">\n",
       "      <th></th>\n",
       "      <th>given_name</th>\n",
       "      <th>surname</th>\n",
       "      <th>hba1c_start</th>\n",
       "      <th>hba1c_end</th>\n",
       "      <th>hba1c_change</th>\n",
       "      <th>insulin</th>\n",
       "      <th>dose</th>\n",
       "    </tr>\n",
       "  </thead>\n",
       "  <tbody>\n",
       "    <tr>\n",
       "      <th>0</th>\n",
       "      <td>veronika</td>\n",
       "      <td>jindrová</td>\n",
       "      <td>7.63</td>\n",
       "      <td>7.20</td>\n",
       "      <td>0.43</td>\n",
       "      <td>auralin</td>\n",
       "      <td>41u - 48u</td>\n",
       "    </tr>\n",
       "    <tr>\n",
       "      <th>1</th>\n",
       "      <td>elliot</td>\n",
       "      <td>richardson</td>\n",
       "      <td>7.56</td>\n",
       "      <td>7.09</td>\n",
       "      <td>0.47</td>\n",
       "      <td>novodra</td>\n",
       "      <td>40u - 45u</td>\n",
       "    </tr>\n",
       "    <tr>\n",
       "      <th>2</th>\n",
       "      <td>yukitaka</td>\n",
       "      <td>takenaka</td>\n",
       "      <td>7.68</td>\n",
       "      <td>7.25</td>\n",
       "      <td>0.43</td>\n",
       "      <td>novodra</td>\n",
       "      <td>39u - 36u</td>\n",
       "    </tr>\n",
       "    <tr>\n",
       "      <th>3</th>\n",
       "      <td>skye</td>\n",
       "      <td>gormanston</td>\n",
       "      <td>7.97</td>\n",
       "      <td>7.62</td>\n",
       "      <td>0.35</td>\n",
       "      <td>auralin</td>\n",
       "      <td>33u - 36u</td>\n",
       "    </tr>\n",
       "    <tr>\n",
       "      <th>4</th>\n",
       "      <td>alissa</td>\n",
       "      <td>montez</td>\n",
       "      <td>7.78</td>\n",
       "      <td>7.46</td>\n",
       "      <td>0.32</td>\n",
       "      <td>novodra</td>\n",
       "      <td>33u - 29u</td>\n",
       "    </tr>\n",
       "    <tr>\n",
       "      <th>...</th>\n",
       "      <td>...</td>\n",
       "      <td>...</td>\n",
       "      <td>...</td>\n",
       "      <td>...</td>\n",
       "      <td>...</td>\n",
       "      <td>...</td>\n",
       "      <td>...</td>\n",
       "    </tr>\n",
       "    <tr>\n",
       "      <th>65</th>\n",
       "      <td>rovzan</td>\n",
       "      <td>kishiev</td>\n",
       "      <td>7.75</td>\n",
       "      <td>7.41</td>\n",
       "      <td>0.34</td>\n",
       "      <td>auralin</td>\n",
       "      <td>32u - 37u</td>\n",
       "    </tr>\n",
       "    <tr>\n",
       "      <th>66</th>\n",
       "      <td>jakob</td>\n",
       "      <td>jakobsen</td>\n",
       "      <td>7.96</td>\n",
       "      <td>7.51</td>\n",
       "      <td>0.45</td>\n",
       "      <td>novodra</td>\n",
       "      <td>28u - 26u</td>\n",
       "    </tr>\n",
       "    <tr>\n",
       "      <th>67</th>\n",
       "      <td>bernd</td>\n",
       "      <td>schneider</td>\n",
       "      <td>7.74</td>\n",
       "      <td>7.44</td>\n",
       "      <td>0.30</td>\n",
       "      <td>auralin</td>\n",
       "      <td>48u - 56u</td>\n",
       "    </tr>\n",
       "    <tr>\n",
       "      <th>68</th>\n",
       "      <td>berta</td>\n",
       "      <td>napolitani</td>\n",
       "      <td>7.68</td>\n",
       "      <td>7.21</td>\n",
       "      <td>0.47</td>\n",
       "      <td>novodra</td>\n",
       "      <td>42u - 44u</td>\n",
       "    </tr>\n",
       "    <tr>\n",
       "      <th>69</th>\n",
       "      <td>armina</td>\n",
       "      <td>sauvé</td>\n",
       "      <td>7.86</td>\n",
       "      <td>7.40</td>\n",
       "      <td>0.46</td>\n",
       "      <td>auralin</td>\n",
       "      <td>36u - 46u</td>\n",
       "    </tr>\n",
       "  </tbody>\n",
       "</table>\n",
       "<p>350 rows × 7 columns</p>\n",
       "</div>"
      ],
      "text/plain": [
       "   given_name     surname  hba1c_start  hba1c_end  hba1c_change  insulin  \\\n",
       "0    veronika    jindrová         7.63       7.20          0.43  auralin   \n",
       "1      elliot  richardson         7.56       7.09          0.47  novodra   \n",
       "2    yukitaka    takenaka         7.68       7.25          0.43  novodra   \n",
       "3        skye  gormanston         7.97       7.62          0.35  auralin   \n",
       "4      alissa      montez         7.78       7.46          0.32  novodra   \n",
       "..        ...         ...          ...        ...           ...      ...   \n",
       "65     rovzan     kishiev         7.75       7.41          0.34  auralin   \n",
       "66      jakob    jakobsen         7.96       7.51          0.45  novodra   \n",
       "67      bernd   schneider         7.74       7.44          0.30  auralin   \n",
       "68      berta  napolitani         7.68       7.21          0.47  novodra   \n",
       "69     armina       sauvé         7.86       7.40          0.46  auralin   \n",
       "\n",
       "         dose  \n",
       "0   41u - 48u  \n",
       "1   40u - 45u  \n",
       "2   39u - 36u  \n",
       "3   33u - 36u  \n",
       "4   33u - 29u  \n",
       "..        ...  \n",
       "65  32u - 37u  \n",
       "66  28u - 26u  \n",
       "67  48u - 56u  \n",
       "68  42u - 44u  \n",
       "69  36u - 46u  \n",
       "\n",
       "[350 rows x 7 columns]"
      ]
     },
     "execution_count": 196,
     "metadata": {},
     "output_type": "execute_result"
    }
   ],
   "source": [
    "treatments_df"
   ]
  },
  {
   "cell_type": "code",
   "execution_count": null,
   "id": "a0964a87-e213-4240-bcce-909be920b128",
   "metadata": {},
   "outputs": [],
   "source": [
    "# Dose storing dose of medicine\n",
    "treatments_df.loc[treatments_df['dose'] == \"-\", 'dose'] = treatments_df.loc[treatments_df['dose'] == \"-\", 'novodra']"
   ]
  },
  {
   "cell_type": "code",
   "execution_count": 65,
   "id": "b9f20734-5813-4792-af28-315a6aea46b8",
   "metadata": {},
   "outputs": [],
   "source": [
    "# Droping useless columns\n",
    "treatments_df.drop(columns='auralin',inplace=True)\n",
    "treatments_df.drop(columns='novodra',inplace=True)"
   ]
  },
  {
   "cell_type": "code",
   "execution_count": 68,
   "id": "30d673fe-e97a-4dba-b2e6-3cbe0c733c73",
   "metadata": {},
   "outputs": [],
   "source": [
    "# Drop duplicates\n",
    "treatments_df = treatments_df.drop_duplicates()"
   ]
  },
  {
   "cell_type": "code",
   "execution_count": 201,
   "id": "6901421a-f8b0-489f-a3af-f02bef095b91",
   "metadata": {},
   "outputs": [],
   "source": [
    "# Save to CSV\n",
    "treatments_df.to_csv('treatments_cleaned_data.csv', index=False)\n",
    "patients_df.to_csv('patients_cleaned_data.csv', index=False)\n",
    "adverse_reactions_df.to_csv('adverse_reactions_data.csv', index=False)"
   ]
  }
 ],
 "metadata": {
  "kernelspec": {
   "display_name": "Python 3 (ipykernel)",
   "language": "python",
   "name": "python3"
  },
  "language_info": {
   "codemirror_mode": {
    "name": "ipython",
    "version": 3
   },
   "file_extension": ".py",
   "mimetype": "text/x-python",
   "name": "python",
   "nbconvert_exporter": "python",
   "pygments_lexer": "ipython3",
   "version": "3.11.7"
  }
 },
 "nbformat": 4,
 "nbformat_minor": 5
}
